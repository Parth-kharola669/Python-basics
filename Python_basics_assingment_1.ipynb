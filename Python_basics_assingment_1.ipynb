{
  "nbformat": 4,
  "nbformat_minor": 0,
  "metadata": {
    "colab": {
      "provenance": []
    },
    "kernelspec": {
      "name": "python3",
      "display_name": "Python 3"
    },
    "language_info": {
      "name": "python"
    }
  },
  "cells": [
    {
      "cell_type": "markdown",
      "source": [
        "# Python basics assingment 1 (Basic Questions)\n",
        "\n",
        "1 - What is Python, and why is it popular\n",
        "  - Python is a high-level, interpreted programming language known for its simplicity, readability, and versatility. Created by Guido van Rossum and first released in 1991, Python emphasizes code readability and allows programmers to express concepts in fewer lines of code compared to many other languages.\n",
        "\n",
        "2 - What is an interpreter in Python\n",
        "  - In Python, an interpreter is a program that reads and executes code line by line (rather than compiling the entire code at once). When you write Python code and run it, the interpreter translates your high-level Python code into machine code that your computer can understand and execute.\n",
        "\n",
        "3 - What are pre-defined keywords in Python\n",
        "  - Pre-defined keywords in Python are reserved words that have special meaning in the language. These keywords are built into Python and cannot be used as variable names, function names, or identifiers because they are part of the syntax and structure of the language.\n",
        "\n",
        "4 -  Can keywords be used as variable names\n",
        "  - No, you cannot use keywords as variable names in Python.\n",
        "\n",
        "5 - What is mutability in Python\n",
        "  - In Python, mutability refers to whether or not an object’s value can be changed after it is created.\n",
        "\n",
        "6 - Why are lists mutable, but tuples are immutable\n",
        "  - It all comes down to design choices in Python that balance flexibility, safety, and performance.Lists are mutable because they’re designed for dynamic, changeable data.Tuples are immutable because they’re designed for fixed, unchangeable data — providing safety, performance, and hashability.\n",
        "\n",
        "7 - What is the difference between “==” and “is” operators in Python\n",
        "  - (Equality Operator)\n",
        "Checks if the values of two objects are the same, even if they are stored in different locations.\n",
        "\n",
        " (Identity Operator)\n",
        "Checks if two references point to the same object in memory.\n",
        "In other words, do a and b refer to the exact same object?\n",
        "\n",
        "8 - What are logical operators in Python\n",
        "  - Logical operators in Python are used to combine conditional statements or expressions that return boolean values (True or False).\n",
        "  The 3 Logical Operators in Python:\n",
        "  and,\n",
        "  or,\n",
        "  not.\n",
        "\n",
        "9 - What is type casting in Python\n",
        "  - Type casting (or type conversion) in Python is the process of converting a variable from one data type to another.\n",
        "Python supports both implicit and explicit type casting.\n",
        "\n",
        "10 - What is the difference between implicit and explicit type casting\n",
        "   - 1. Implicit Type Casting (Automatic)\n",
        "Python automatically converts one data type to another when needed, and the conversion is safe.\n",
        "\n",
        "     2. Explicit Type Casting (Manual)\n",
        "You manually convert a variable’s data type using casting functions.\n",
        "\n",
        "11 - What is the purpose of conditional statements in Python\n",
        "   - Conditional statements in Python are used to make decisions in your program — to execute certain blocks of code only when specific conditions are met.\n",
        "\n",
        "  They allow your code to be dynamic, responsive, and intelligent based on input or data.\n",
        "\n",
        "12 - How does the elif statement work\n",
        "   - The elif (short for \"else if\") statement in Python is used to check multiple conditions one by one after an initial if condition.\n",
        "\n",
        "  It allows your program to choose from several possible blocks of code to execute — but only one block will run.\n",
        "\n",
        "13 - What is the difference between for and while loops\n",
        "   - Both for and while loops are used to repeat code, but they differ in how they control the repetition.\n",
        "   1. for Loop – Best for fixed iterations\n",
        "Used when you know in advance how many times you want to loop.\n",
        "\n",
        " Iterates over a sequence (like a list, string, or range).\n",
        " 2. while Loop – Best for condition-based repetition\n",
        "Used when you don’t know how many times the loop will run.\n",
        "\n",
        "  Continues as long as a condition is True.\n",
        "\n",
        "14 - 8 Describe a scenario where a while loop is more suitable than a for loop.\n",
        "   -  Scenario: User Login System with Unlimited Attempts\n",
        "Imagine you're building a simple login system where the program keeps asking the user to enter the correct password until they get it right.\n",
        "\n",
        " Here, you don’t know how many attempts the user will need. This makes a **while** loop the better choice — because it continues as long as a condition is not met.      \n",
        "\n",
        "  Example:\n",
        "\n",
        " correct_password = \"python123\"\n",
        "\n",
        " user_input = \"\"\n",
        "\n",
        "\n",
        "  while user_input != correct_password:\n",
        "    \n",
        "    user_input = input(\"Enter password: \")\n",
        "\n",
        "  print(\"Access granted!\")\n",
        "\n"
      ],
      "metadata": {
        "id": "BqNl2YzNJYy9"
      }
    },
    {
      "cell_type": "markdown",
      "source": [
        "# Practical Questions"
      ],
      "metadata": {
        "id": "VlMm4S6sSTsu"
      }
    },
    {
      "cell_type": "code",
      "execution_count": 1,
      "metadata": {
        "colab": {
          "base_uri": "https://localhost:8080/"
        },
        "id": "dpCOsy-wJXK1",
        "outputId": "6dc14391-1929-461a-d1bd-7e3b58feca96"
      },
      "outputs": [
        {
          "output_type": "stream",
          "name": "stdout",
          "text": [
            "Hello, World!\n"
          ]
        }
      ],
      "source": [
        "# 1 Write a Python program to print \"Hello, World!\"\n",
        "\n",
        "print(\"Hello, World!\")\n",
        "\n"
      ]
    },
    {
      "cell_type": "code",
      "source": [
        "# 2 Write a Python program that displays your name and age\n",
        "\n",
        "\n",
        "name = \"Parth Kharola\"\n",
        "age = 21\n",
        "\n",
        "print(\"My name is\", name)\n",
        "print(\"I am\", age, \"years old.\")\n"
      ],
      "metadata": {
        "colab": {
          "base_uri": "https://localhost:8080/"
        },
        "id": "wNlhQ4hfRxAf",
        "outputId": "e843b0d2-441d-48fd-8ad4-1f95c1367fbc"
      },
      "execution_count": 2,
      "outputs": [
        {
          "output_type": "stream",
          "name": "stdout",
          "text": [
            "My name is Parth Kharola\n",
            "I am 21 years old.\n"
          ]
        }
      ]
    },
    {
      "cell_type": "code",
      "source": [
        "# 3 Write code to print all the pre-defined keywords in Python using the keyword library\n",
        "\n",
        "import keyword\n",
        "\n",
        "keywords = keyword.kwlist\n",
        "\n",
        "print(\"Python Keywords:\")\n",
        "for kw in keywords:\n",
        "    print(kw)\n"
      ],
      "metadata": {
        "colab": {
          "base_uri": "https://localhost:8080/"
        },
        "id": "V7T6QglyS622",
        "outputId": "87f655fd-4d8b-4b20-c5f1-e5cb13f1bd2d"
      },
      "execution_count": 3,
      "outputs": [
        {
          "output_type": "stream",
          "name": "stdout",
          "text": [
            "Python Keywords:\n",
            "False\n",
            "None\n",
            "True\n",
            "and\n",
            "as\n",
            "assert\n",
            "async\n",
            "await\n",
            "break\n",
            "class\n",
            "continue\n",
            "def\n",
            "del\n",
            "elif\n",
            "else\n",
            "except\n",
            "finally\n",
            "for\n",
            "from\n",
            "global\n",
            "if\n",
            "import\n",
            "in\n",
            "is\n",
            "lambda\n",
            "nonlocal\n",
            "not\n",
            "or\n",
            "pass\n",
            "raise\n",
            "return\n",
            "try\n",
            "while\n",
            "with\n",
            "yield\n"
          ]
        }
      ]
    },
    {
      "cell_type": "code",
      "source": [
        "# 4 Write a program that checks if a given word is a Python keyword.\n",
        "\n",
        "import keyword\n",
        "\n",
        "word = input(\"Enter a word: \")\n",
        "\n",
        "if keyword.iskeyword(word):\n",
        "    print(f\"'{word}' is a Python keyword.\")\n",
        "else:\n",
        "    print(f\"'{word}' is not a Python keyword.\")"
      ],
      "metadata": {
        "colab": {
          "base_uri": "https://localhost:8080/"
        },
        "id": "wW8bORR4S6tD",
        "outputId": "f3df910a-f383-4ef7-aa46-624886c90f55"
      },
      "execution_count": 4,
      "outputs": [
        {
          "output_type": "stream",
          "name": "stdout",
          "text": [
            "Enter a word: True\n",
            "'True' is a Python keyword.\n"
          ]
        }
      ]
    },
    {
      "cell_type": "code",
      "source": [
        "# 5  Create a list and tuple in Python, and demonstrate how attempting to change an element works differently\n",
        "# for each.\n",
        "\n",
        "my_list = [10, 20, 30]\n",
        "print(\"Original list:\", my_list)\n",
        "\n",
        "\n",
        "my_list[1] = 200\n",
        "print(\"Modified list:\", my_list)\n",
        "\n",
        "my_tuple = (10, 20, 30)\n",
        "print(\"\\nOriginal tuple:\", my_tuple)\n",
        "\n",
        "\n",
        "print(\"Attempting to modify tuple...\")\n",
        "print(\"This would raise a TypeError because tuples are immutable.\")"
      ],
      "metadata": {
        "colab": {
          "base_uri": "https://localhost:8080/"
        },
        "id": "jZiRdvvWS6pn",
        "outputId": "8b10c062-e2a9-401e-8ebe-8c0d16e961b5"
      },
      "execution_count": 6,
      "outputs": [
        {
          "output_type": "stream",
          "name": "stdout",
          "text": [
            "Original list: [10, 20, 30]\n",
            "Modified list: [10, 200, 30]\n",
            "\n",
            "Original tuple: (10, 20, 30)\n",
            "Attempting to modify tuple...\n",
            "This would raise a TypeError because tuples are immutable.\n"
          ]
        }
      ]
    },
    {
      "cell_type": "code",
      "source": [
        "# 6  Write a function to demonstrate the behavior of mutable and immutable arguments.\n",
        "\n",
        "def modify_int(x):\n",
        "    print(\"Inside function before modification:\", x)\n",
        "    x += 10\n",
        "    print(\"Inside function after modification:\", x)\n",
        "\n",
        "def modify_list(lst):\n",
        "    print(\"Inside function before modification:\", lst)\n",
        "    lst.append(100)\n",
        "    print(\"Inside function after modification:\", lst)\n",
        "\n",
        "\n",
        "\n",
        "num = 50\n",
        "print(\"Before calling modify_int:\", num)\n",
        "modify_int(num)\n",
        "print(\"After calling modify_int:\", num)\n",
        "\n",
        "print(\"\\n\" + \"-\"*40 + \"\\n\")\n",
        "\n",
        "my_list = [1, 2, 3]\n",
        "print(\"Before calling modify_list:\", my_list)\n",
        "modify_list(my_list)\n",
        "print(\"After calling modify_list:\", my_list)\n"
      ],
      "metadata": {
        "colab": {
          "base_uri": "https://localhost:8080/"
        },
        "id": "Cg5FVQUAS6mN",
        "outputId": "f9fe8259-72e8-46aa-92cb-d5a9967e7ef4"
      },
      "execution_count": 8,
      "outputs": [
        {
          "output_type": "stream",
          "name": "stdout",
          "text": [
            "Before calling modify_int: 50\n",
            "Inside function before modification: 50\n",
            "Inside function after modification: 60\n",
            "After calling modify_int: 50\n",
            "\n",
            "----------------------------------------\n",
            "\n",
            "Before calling modify_list: [1, 2, 3]\n",
            "Inside function before modification: [1, 2, 3]\n",
            "Inside function after modification: [1, 2, 3, 100]\n",
            "After calling modify_list: [1, 2, 3, 100]\n"
          ]
        }
      ]
    },
    {
      "cell_type": "code",
      "source": [
        "# 7  Write a program that performs basic arithmetic operations on two user-input numbers.\n",
        "\n",
        "num1 = float(input(\"Enter the first number: \"))\n",
        "num2 = float(input(\"Enter the second number: \"))"
      ],
      "metadata": {
        "colab": {
          "base_uri": "https://localhost:8080/"
        },
        "id": "KCOzJgAWUNWh",
        "outputId": "cbecf146-063b-4ccf-8c3a-92954feba7b4"
      },
      "execution_count": 9,
      "outputs": [
        {
          "name": "stdout",
          "output_type": "stream",
          "text": [
            "Enter the first number: 67\n",
            "Enter the second number: 78\n"
          ]
        }
      ]
    },
    {
      "cell_type": "code",
      "source": [
        "# 8  Write a program to demonstrate the use of logical operators.\n",
        "\n",
        "num1 = float(input(\"Enter the first number: \"))\n",
        "num2 = float(input(\"Enter the second number: \"))\n",
        "\n",
        "if num1 > 0 and num2 > 0:\n",
        "    print(\"Both numbers are positive.\")"
      ],
      "metadata": {
        "colab": {
          "base_uri": "https://localhost:8080/"
        },
        "id": "zJroyBJOUNTB",
        "outputId": "9faad2d6-6de1-4ce7-9f7b-5cb5674ed8e1"
      },
      "execution_count": 10,
      "outputs": [
        {
          "output_type": "stream",
          "name": "stdout",
          "text": [
            "Enter the first number: 87\n",
            "Enter the second number: 67\n",
            "Both numbers are positive.\n"
          ]
        }
      ]
    },
    {
      "cell_type": "code",
      "source": [
        "# 9   Write a Python program to convert user input from string to integer, float, and boolean types.\n",
        "\n",
        "\n",
        "user_input = input(\"Enter a value: \")\n",
        "\n",
        "\n",
        "try:\n",
        "    int_value = int(user_input)\n",
        "    print(\"Integer value:\", int_value)\n",
        "except ValueError:\n",
        "    print(\"Cannot convert to integer.\")\n",
        "\n",
        "try:\n",
        "    float_value = float(user_input)\n",
        "    print(\"Float value:\", float_value)\n",
        "except ValueError:\n",
        "    print(\"Cannot convert to float.\")\n",
        "\n",
        "\n",
        "bool_value = bool(user_input)\n",
        "print(\"Boolean value:\", bool_value)\n",
        "\n",
        "\n"
      ],
      "metadata": {
        "colab": {
          "base_uri": "https://localhost:8080/"
        },
        "id": "YFyuVSDkUNKH",
        "outputId": "f4ebe3d4-a367-41a8-ad51-d08dbc884f76"
      },
      "execution_count": 11,
      "outputs": [
        {
          "output_type": "stream",
          "name": "stdout",
          "text": [
            "Enter a value: True\n",
            "Cannot convert to integer.\n",
            "Cannot convert to float.\n",
            "Boolean value: True\n"
          ]
        }
      ]
    },
    {
      "cell_type": "code",
      "source": [
        "# 10  Write code to demonstrate type casting with list elements.\n",
        "\n",
        "string_list = [\"10\", \"20\", \"30\", \"0\", \"\"]\n",
        "\n",
        "print(\"Original list (strings):\", string_list)\n",
        "\n",
        "int_list = []\n",
        "for item in string_list:\n",
        "    try:\n",
        "        int_list.append(int(item))\n",
        "    except ValueError:\n",
        "        int_list.append(None)\n",
        "print(\"Converted to integers:\", int_list)\n",
        "\n",
        "float_list = []\n",
        "for item in string_list:\n",
        "    try:\n",
        "        float_list.append(float(item))\n",
        "    except ValueError:\n",
        "        float_list.append(None)\n",
        "print(\"Converted to floats:\", float_list)\n",
        "\n",
        "bool_list = [bool(item) for item in string_list]\n",
        "print(\"Converted to booleans:\", bool_list)\n",
        "\n",
        "str_list = [str(item) for item in int_list]\n",
        "print(\"Converted back to strings:\", str_list)"
      ],
      "metadata": {
        "colab": {
          "base_uri": "https://localhost:8080/"
        },
        "id": "-E1v-g91U8-t",
        "outputId": "25993462-add9-4cef-b2e6-b5e8bd6f42f4"
      },
      "execution_count": 14,
      "outputs": [
        {
          "output_type": "stream",
          "name": "stdout",
          "text": [
            "Original list (strings): ['10', '20', '30', '0', '']\n",
            "Converted to integers: [10, 20, 30, 0, None]\n",
            "Converted to floats: [10.0, 20.0, 30.0, 0.0, None]\n",
            "Converted to booleans: [True, True, True, True, False]\n",
            "Converted back to strings: ['10', '20', '30', '0', 'None']\n"
          ]
        }
      ]
    },
    {
      "cell_type": "code",
      "source": [
        "# 11 Write a program that checks if a number is positive, negative, or zero.\n",
        "\n",
        "num = float(input(\"Enter a number: \"))\n",
        "\n",
        "if num > 0:\n",
        "    print(\"The number is positive.\")\n",
        "elif num < 0:\n",
        "    print(\"The number is negative.\")\n",
        "else:\n",
        "    print(\"The number is zero.\")"
      ],
      "metadata": {
        "colab": {
          "base_uri": "https://localhost:8080/"
        },
        "id": "pmMi44FoU87T",
        "outputId": "5413d725-ecc9-4976-ce6a-c0cd2401a749"
      },
      "execution_count": 15,
      "outputs": [
        {
          "output_type": "stream",
          "name": "stdout",
          "text": [
            "Enter a number: 57\n",
            "The number is positive.\n"
          ]
        }
      ]
    },
    {
      "cell_type": "code",
      "source": [
        "# 12  Write a for loop to print numbers from 1 to 10.\n",
        "\n",
        "for num in range(1, 11):\n",
        "    print(num)"
      ],
      "metadata": {
        "colab": {
          "base_uri": "https://localhost:8080/"
        },
        "id": "N2VVveFCU84c",
        "outputId": "c78708ea-aba3-4f0c-8bcc-0fc138950ac3"
      },
      "execution_count": 16,
      "outputs": [
        {
          "output_type": "stream",
          "name": "stdout",
          "text": [
            "1\n",
            "2\n",
            "3\n",
            "4\n",
            "5\n",
            "6\n",
            "7\n",
            "8\n",
            "9\n",
            "10\n"
          ]
        }
      ]
    },
    {
      "cell_type": "code",
      "source": [
        "# 13 Write a Python program to find the sum of all even numbers between 1 and 50.\n",
        "\n",
        "even_sum = 0\n",
        "\n",
        "for i in range(1, 51):\n",
        "    if i % 2 == 0:\n",
        "        even_sum += i\n",
        "\n",
        "print(\"Sum of even numbers from 1 to 50 is:\", even_sum)\n",
        "\n",
        "\n"
      ],
      "metadata": {
        "colab": {
          "base_uri": "https://localhost:8080/"
        },
        "id": "T8PjvNZuUNGw",
        "outputId": "7ed813bf-6a6c-4f0e-cd00-5ad9a5c7d0b1"
      },
      "execution_count": 17,
      "outputs": [
        {
          "output_type": "stream",
          "name": "stdout",
          "text": [
            "Sum of even numbers from 1 to 50 is: 650\n"
          ]
        }
      ]
    },
    {
      "cell_type": "code",
      "source": [
        "# 14  Write a program to reverse a string using a while loop.\n",
        "\n",
        "string = input(\"Enter a string: \")\n",
        "\n",
        "reversed_string = \"\"\n",
        "index = len(string) - 1\n",
        "\n",
        "while index >= 0:\n",
        "    reversed_string += string[index]\n",
        "    index -= 1\n",
        "\n",
        "print(\"Reversed string:\", reversed_string)"
      ],
      "metadata": {
        "colab": {
          "base_uri": "https://localhost:8080/"
        },
        "id": "HmFcJC_mWB79",
        "outputId": "4bac7cc3-038c-4e05-aaea-7ba2ffe77d82"
      },
      "execution_count": 18,
      "outputs": [
        {
          "output_type": "stream",
          "name": "stdout",
          "text": [
            "Enter a string: Parth\n",
            "Reversed string: htraP\n"
          ]
        }
      ]
    },
    {
      "cell_type": "code",
      "source": [
        "# 15  Write a Python program to calculate the factorial of a number provided by the user using a while loop.\n",
        "\n",
        "num = int(input(\"Enter a number: \"))\n",
        "\n",
        "factorial = 1\n",
        "current = 1\n",
        "\n",
        "while current <= num:\n",
        "    factorial *= current\n",
        "    current += 1\n",
        "\n",
        "print(f\"The factorial of {num} is: {factorial}\")"
      ],
      "metadata": {
        "colab": {
          "base_uri": "https://localhost:8080/"
        },
        "id": "pSffsSHZWB4g",
        "outputId": "c0668520-3417-4b14-fda0-60ee242ea815"
      },
      "execution_count": 21,
      "outputs": [
        {
          "output_type": "stream",
          "name": "stdout",
          "text": [
            "Enter a number: 7\n",
            "The factorial of 7 is: 5040\n"
          ]
        }
      ]
    },
    {
      "cell_type": "code",
      "source": [],
      "metadata": {
        "id": "FbWuVEoyWB1V"
      },
      "execution_count": null,
      "outputs": []
    }
  ]
}